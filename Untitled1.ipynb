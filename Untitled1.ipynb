{
 "cells": [
  {
   "cell_type": "code",
   "execution_count": 19,
   "id": "28690962",
   "metadata": {},
   "outputs": [],
   "source": [
    "from sklearn.neural_network import MLPClassifier\n",
    "from pandas import read_csv as rc\n",
    "from pandas import DataFrame as df\n",
    "from sklearn.model_selection import train_test_split\n",
    "from matplotlib import pyplot\n",
    "from pandas.plotting import scatter_matrix\n",
    "from seaborn import kdeplot\n",
    "from sklearn.metrics import confusion_matrix, ConfusionMatrixDisplay, classification_report\n",
    "from seaborn import set, heatmap\n",
    "from sklearn.metrics import accuracy_score\n",
    "import pandas as pd\n",
    "from sklearn.model_selection import train_test_split\n",
    "from sklearn.neural_network import MLPClassifier\n",
    "from sklearn.preprocessing import LabelEncoder\n",
    "from sklearn.preprocessing import LabelEncoder, StandardScaler\n",
    "from graphviz import Digraph\n",
    "\n"
   ]
  },
  {
   "cell_type": "code",
   "execution_count": 20,
   "id": "70e06bf3",
   "metadata": {},
   "outputs": [
    {
     "name": "stdout",
     "output_type": "stream",
     "text": [
      "dataset_init      Sepal_length  Sepal_width  Petal_length  Petal_width           Class\n",
      "0             5.1          3.5           1.4          0.2     Iris-setosa\n",
      "1             4.9          3.0           1.4          0.2     Iris-setosa\n",
      "2             4.7          3.2           1.3          0.2     Iris-setosa\n",
      "3             4.6          3.1           1.5          0.2     Iris-setosa\n",
      "4             5.0          3.6           1.4          0.2     Iris-setosa\n",
      "..            ...          ...           ...          ...             ...\n",
      "145           6.7          3.0           5.2          2.3  Iris-virginica\n",
      "146           6.3          2.5           5.0          1.9  Iris-virginica\n",
      "147           6.5          3.0           5.2          2.0  Iris-virginica\n",
      "148           6.2          3.4           5.4          2.3  Iris-virginica\n",
      "149           5.9          3.0           5.1          1.8  Iris-virginica\n",
      "\n",
      "[150 rows x 5 columns]\n",
      "Dimensions de X : (150, 4)\n",
      "Dimensions de Y : (150,)\n"
     ]
    }
   ],
   "source": [
    "\n",
    "# Chargement des données depuis le fichier CSV\n",
    "# On nomme les colonnes du fichier CSV : 'Setal_length', 'Setal_width', 'Petal_length', 'Petal_width', 'Class'\n",
    "dataset_init = pd.read_csv('C:/Users/asus/Downloads/iris.csv', \n",
    "                           names=['Sepal_length', 'Sepal_width', 'Petal_length', 'Petal_width', 'Class'])\n",
    "\n",
    "# Conversion du DataFrame pandas en tableau numpy pour une utilisation simplifiée des données\n",
    "dataset = dataset_init.values\n",
    "\n",
    "print(\"dataset_init\",dataset_init)\n",
    "\n",
    "# Séparation des données en caractéristiques (X) et en sortie (Y)\n",
    "# X : contient les 4 premières colonnes \n",
    "X = dataset[:, 0:4]  # Colonnes de 0 à 3 (Setal_length, Setal_width, Petal_length, Petal_width)\n",
    "\n",
    "# Y : contient la dernière colonne correspondant aux classes (types de fleurs)\n",
    "Y = dataset[:, 4]    # Colonne 4 (Class)\n",
    "\n",
    "print(\"Dimensions de X :\", X.shape)  # Affiche les dimensions de X\n",
    "print(\"Dimensions de Y :\", Y.shape)  # Affiche les dimensions de Y\n",
    "\n"
   ]
  },
  {
   "cell_type": "code",
   "execution_count": 21,
   "id": "ca167744",
   "metadata": {
    "scrolled": true
   },
   "outputs": [
    {
     "name": "stdout",
     "output_type": "stream",
     "text": [
      "[0 0 0 0 0 0 0 0 0 0 0 0 0 0 0 0 0 0 0 0 0 0 0 0 0 0 0 0 0 0 0 0 0 0 0 0 0\n",
      " 0 0 0 0 0 0 0 0 0 0 0 0 0 1 1 1 1 1 1 1 1 1 1 1 1 1 1 1 1 1 1 1 1 1 1 1 1\n",
      " 1 1 1 1 1 1 1 1 1 1 1 1 1 1 1 1 1 1 1 1 1 1 1 1 1 1 2 2 2 2 2 2 2 2 2 2 2\n",
      " 2 2 2 2 2 2 2 2 2 2 2 2 2 2 2 2 2 2 2 2 2 2 2 2 2 2 2 2 2 2 2 2 2 2 2 2 2\n",
      " 2 2]\n"
     ]
    }
   ],
   "source": [
    "# Initialisation du LabelEncoder\n",
    "label_encoder = LabelEncoder()\n",
    "\n",
    "# Encodage des étiquettes (classes) dans le tableau Y\n",
    "# Cela transforme les valeurs catégorielles en valeurs numériques\n",
    "Y_encoded = label_encoder.fit_transform(Y)\n",
    "\n",
    "# Affichage des étiquettes encodées\n",
    "print(Y_encoded)\n"
   ]
  },
  {
   "cell_type": "code",
   "execution_count": 22,
   "id": "c1416167",
   "metadata": {},
   "outputs": [
    {
     "name": "stdout",
     "output_type": "stream",
     "text": [
      "Données de test normalisées :\n",
      "[[-0.10694994 -0.55721505  0.70793846  1.50872803]\n",
      " [ 0.1222285  -1.92315077  0.09545238 -0.29145882]\n",
      " [-0.45071761  2.6299683  -1.35224199 -1.32013702]\n",
      " [ 1.6118884  -0.32955909  1.37610509  0.73721938]\n",
      " [-1.02366372  0.80872067 -1.29656144 -1.32013702]\n",
      " [ 0.46599617  0.58106472  1.20906343  1.6373128 ]\n",
      " [-1.02366372  1.03637663 -1.40792255 -1.19155225]\n",
      " [ 0.92435306  0.12575281  0.48521625  0.35146505]\n",
      " [ 1.03894229 -0.55721505  0.5408968   0.22288028]\n",
      " [ 0.23681773 -0.55721505  0.09545238  0.0942955 ]\n",
      " [ 0.23681773 -1.01252695  0.98634122  0.22288028]\n",
      " [ 0.5805854   0.35340877  0.37385514  0.35146505]\n",
      " [ 0.23681773 -0.55721505  0.48521625 -0.03428927]\n",
      " [ 0.69517462 -0.55721505  0.42953569  0.35146505]\n",
      " [ 0.23681773 -0.32955909  0.48521625  0.22288028]\n",
      " [-1.13825295  0.12575281 -1.29656144 -1.4487218 ]\n",
      " [ 0.1222285  -0.32955909  0.37385514  0.35146505]\n",
      " [-0.45071761 -1.01252695  0.31817459 -0.03428927]\n",
      " [-1.25284217 -0.10190314 -1.35224199 -1.19155225]\n",
      " [-0.56530683  1.94700044 -1.40792255 -1.06296747]\n",
      " [-0.33612839 -0.55721505  0.59657735  0.99438893]\n",
      " [-0.33612839 -0.10190314  0.37385514  0.35146505]\n",
      " [-1.25284217  0.80872067 -1.07383923 -1.32013702]\n",
      " [-1.71119906 -0.32955909 -1.35224199 -1.32013702]\n",
      " [ 0.35140695 -0.55721505  0.5408968   0.73721938]\n",
      " [-1.48202061  1.26403258 -1.57496421 -1.32013702]\n",
      " [-0.9090745   1.71934449 -1.07383923 -1.06296747]\n",
      " [ 0.35140695 -0.32955909  0.26249403  0.0942955 ]\n",
      " [-1.02366372 -1.69549482 -0.29431149 -0.29145882]\n",
      " [-1.02366372  0.80872067 -1.24088089 -1.06296747]\n",
      " [ 0.5805854   0.12575281  0.93066067  0.73721938]\n",
      " [-0.56530683 -0.10190314  0.37385514  0.35146505]\n",
      " [-0.79448528  1.03637663 -1.29656144 -1.32013702]\n",
      " [ 0.23681773 -0.10190314  0.59657735  0.73721938]\n",
      " [ 0.5805854  -0.55721505  0.98634122  1.25155848]\n",
      " [-0.79448528 -0.784871    0.03977182  0.22288028]\n",
      " [-0.22153916  1.71934449 -1.18520034 -1.19155225]\n",
      " [ 0.1222285  -0.784871    0.70793846  0.48004983]\n",
      " [ 0.00763928 -0.10190314  0.20681348  0.35146505]\n",
      " [-0.10694994 -1.01252695  0.09545238 -0.03428927]\n",
      " [ 1.03894229 -0.10190314  0.93066067  1.1229737 ]\n",
      " [-1.36743139  0.35340877 -1.40792255 -1.32013702]\n",
      " [ 1.15353151  0.12575281  0.70793846  1.38014325]\n",
      " [-1.02366372  1.03637663 -1.24088089 -0.80579792]\n",
      " [-0.56530683  1.49168853 -1.29656144 -1.32013702]]\n",
      "Données d'entraînement normalisées :\n",
      "[[-1.02366372 -2.37846268 -0.18295039 -0.29145882]\n",
      " [ 0.69517462 -0.10190314  0.93066067  0.73721938]\n",
      " [ 0.92435306  0.58106472  1.04202177  1.6373128 ]\n",
      " [ 0.1222285  -1.92315077  0.6522579   0.35146505]\n",
      " [ 0.92435306 -1.24018291  1.09770233  0.73721938]\n",
      " [-0.33612839 -1.24018291  0.03977182 -0.16287405]\n",
      " [ 2.07024529 -0.10190314  1.26474398  1.38014325]\n",
      " [ 0.46599617  0.58106472  0.48521625  0.48004983]\n",
      " [-0.45071761 -1.46783886 -0.01590873 -0.16287405]\n",
      " [ 0.46599617 -0.784871    0.59657735  0.73721938]\n",
      " [ 0.46599617 -0.55721505  0.70793846  0.35146505]\n",
      " [-1.13825295 -1.24018291  0.37385514  0.6086346 ]\n",
      " [ 0.46599617 -1.24018291  0.6522579   0.86580415]\n",
      " [ 1.26812073  0.35340877  0.48521625  0.22288028]\n",
      " [ 0.69517462 -0.10190314  0.76361901  0.99438893]\n",
      " [ 0.1222285   0.80872067  0.37385514  0.48004983]\n",
      " [-1.25284217  0.12575281 -1.24088089 -1.32013702]\n",
      " [-0.10694994 -0.784871    0.70793846  0.86580415]\n",
      " [-0.33612839 -0.784871    0.20681348  0.0942955 ]\n",
      " [-0.33612839 -0.32955909 -0.12726983  0.0942955 ]\n",
      " [-0.45071761 -1.24018291  0.09545238  0.0942955 ]\n",
      " [ 0.23681773 -0.10190314  0.42953569  0.22288028]\n",
      " [ 1.49729918  0.35340877  1.20906343  0.73721938]\n",
      " [-0.67989605  1.49168853 -1.29656144 -1.32013702]\n",
      " [-1.82578828 -0.10190314 -1.51928365 -1.4487218 ]\n",
      " [ 0.5805854  -0.784871    0.81929956  0.86580415]\n",
      " [-0.22153916 -0.10190314  0.20681348 -0.03428927]\n",
      " [-0.56530683  0.80872067 -1.18520034 -1.32013702]\n",
      " [-0.22153916  3.08528021 -1.29656144 -1.06296747]\n",
      " [ 1.15353151  0.12575281  0.59657735  0.35146505]\n",
      " [-1.48202061  0.12575281 -1.29656144 -1.32013702]\n",
      " [ 0.00763928 -0.10190314  0.70793846  0.73721938]\n",
      " [-0.9090745  -1.24018291 -0.46135315 -0.16287405]\n",
      " [-1.48202061  0.80872067 -1.35224199 -1.19155225]\n",
      " [ 0.35140695 -1.92315077  0.37385514  0.35146505]\n",
      " [ 1.49729918  1.26403258  1.26474398  1.6373128 ]\n",
      " [-0.22153916 -0.32955909  0.20681348  0.0942955 ]\n",
      " [-1.25284217 -0.10190314 -1.35224199 -1.4487218 ]\n",
      " [ 1.38270995 -0.10190314  1.15338288  1.1229737 ]\n",
      " [ 1.15353151  0.35340877  1.04202177  1.38014325]\n",
      " [ 0.69517462 -0.10190314  1.09770233  1.25155848]\n",
      " [ 0.5805854  -0.55721505  0.98634122  1.1229737 ]\n",
      " [-0.9090745   1.71934449 -1.24088089 -1.32013702]\n",
      " [-1.25284217  0.80872067 -1.24088089 -1.32013702]\n",
      " [ 0.69517462  0.35340877  0.70793846  0.99438893]\n",
      " [ 0.92435306  0.58106472  1.04202177  1.1229737 ]\n",
      " [-1.59660984 -1.69549482 -1.40792255 -1.19155225]\n",
      " [ 0.35140695  0.80872067  0.87498011  1.38014325]\n",
      " [-1.13825295 -0.10190314 -1.35224199 -1.32013702]\n",
      " [-0.22153916 -1.24018291  0.6522579   0.99438893]\n",
      " [ 1.15353151  0.12575281  0.87498011  1.1229737 ]\n",
      " [-1.71119906  0.35340877 -1.40792255 -1.32013702]\n",
      " [-1.02366372  1.26403258 -1.35224199 -1.32013702]\n",
      " [ 1.49729918 -0.10190314  1.09770233  0.48004983]\n",
      " [-0.9090745   1.03637663 -1.35224199 -1.19155225]\n",
      " [-1.71119906 -0.10190314 -1.40792255 -1.32013702]\n",
      " [-0.56530683  1.94700044 -1.18520034 -1.06296747]\n",
      " [-0.45071761 -1.69549482  0.09545238  0.0942955 ]\n",
      " [ 1.03894229  0.35340877  1.15338288  1.38014325]\n",
      " [ 1.95565607 -0.10190314  1.54314675  1.1229737 ]\n",
      " [-0.9090745   1.03637663 -1.35224199 -1.32013702]\n",
      " [-1.13825295  0.12575281 -1.29656144 -1.4487218 ]\n",
      " [-0.79448528  0.80872067 -1.35224199 -1.32013702]\n",
      " [-0.22153916 -0.55721505  0.37385514  0.0942955 ]\n",
      " [ 0.80976384 -0.10190314  0.31817459  0.22288028]\n",
      " [-1.02366372  0.35340877 -1.4636031  -1.32013702]\n",
      " [-0.9090745   0.58106472 -1.18520034 -0.9343827 ]\n",
      " [ 0.5805854  -0.32955909  0.26249403  0.0942955 ]\n",
      " [-0.56530683  0.80872067 -1.29656144 -1.06296747]\n",
      " [ 2.07024529 -1.01252695  1.71018841  1.38014325]\n",
      " [-1.13825295 -1.46783886 -0.29431149 -0.29145882]\n",
      " [ 2.29942374  1.71934449  1.43178564  0.99438893]\n",
      " [ 0.92435306  0.12575281  0.31817459  0.22288028]\n",
      " [-0.79448528  2.40231235 -1.29656144 -1.4487218 ]\n",
      " [ 0.1222285  -0.10190314  0.5408968   0.73721938]\n",
      " [-0.10694994  2.17465639 -1.4636031  -1.32013702]\n",
      " [ 2.07024529 -0.55721505  1.5988273   0.99438893]\n",
      " [-0.9090745   1.71934449 -1.29656144 -1.19155225]\n",
      " [-1.36743139  0.35340877 -1.24088089 -1.32013702]\n",
      " [ 1.72647762 -0.55721505  1.26474398  0.86580415]\n",
      " [-1.02366372  0.58106472 -1.35224199 -1.32013702]\n",
      " [ 0.46599617  0.80872067  0.98634122  1.50872803]\n",
      " [-0.22153916 -0.55721505  0.15113293  0.0942955 ]\n",
      " [-0.10694994 -0.784871    0.03977182 -0.03428927]\n",
      " [-0.22153916 -1.01252695 -0.18295039 -0.29145882]\n",
      " [ 0.5805854   0.35340877  0.81929956  1.38014325]\n",
      " [ 0.92435306 -0.10190314  0.76361901  1.38014325]\n",
      " [ 0.46599617 -1.24018291  0.59657735  0.35146505]\n",
      " [ 0.92435306 -0.10190314  0.6522579   0.6086346 ]\n",
      " [-1.02366372 -0.10190314 -1.24088089 -1.32013702]\n",
      " [-0.45071761 -1.46783886 -0.07158928 -0.29145882]\n",
      " [ 0.92435306  0.12575281  0.98634122  1.50872803]\n",
      " [-0.10694994 -0.784871    0.70793846  0.86580415]\n",
      " [-0.9090745   0.80872067 -1.29656144 -1.32013702]\n",
      " [ 0.80976384 -0.32955909  0.42953569  0.0942955 ]\n",
      " [-0.33612839 -0.10190314  0.15113293  0.0942955 ]\n",
      " [ 0.00763928  0.35340877  0.5408968   0.73721938]\n",
      " [ 0.46599617 -1.69549482  0.31817459  0.0942955 ]\n",
      " [-0.45071761  1.03637663 -1.40792255 -1.32013702]\n",
      " [-0.9090745   1.49168853 -1.29656144 -1.06296747]\n",
      " [-1.13825295  0.12575281 -1.29656144 -1.4487218 ]\n",
      " [ 0.46599617 -0.32955909  0.98634122  0.73721938]\n",
      " [-0.10694994 -0.784871    0.15113293 -0.29145882]\n",
      " [ 2.07024529  1.71934449  1.5988273   1.25155848]\n",
      " [-1.48202061  0.35340877 -1.35224199 -1.32013702]]\n"
     ]
    }
   ],
   "source": [
    "# Division des données en jeu d'entraînement et de test\n",
    "x_train, x_test, y_train, y_test = train_test_split(X, Y_encoded, test_size=0.3, random_state=0)\n",
    "\n",
    "# Initialisation du StandardScaler\n",
    "scaler = StandardScaler()\n",
    "\n",
    "# Normalisation des données\n",
    "x_train = scaler.fit_transform(x_train)  # Ajustement et transformation sur l'entraînement\n",
    "x_test = scaler.transform(x_test)        # Transformation uniquement sur le test\n",
    "\n",
    "# Affichage des données normalisées\n",
    "print(\"Données de test normalisées :\")\n",
    "print(x_test)\n",
    "print(\"Données d'entraînement normalisées :\")\n",
    "print(x_train)\n"
   ]
  },
  {
   "cell_type": "code",
   "execution_count": 23,
   "id": "6e27f113",
   "metadata": {},
   "outputs": [
    {
     "name": "stdout",
     "output_type": "stream",
     "text": [
      "Prédictions sur l'ensemble d'entraînement : [0 2 2 2 2 0 2 2 0 2 2 0 2 2 2 2 0 2 1 0 0 2 2 0 0 2 1 0 0 2 0 2 0 0 2 2 1\n",
      " 0 2 2 2 2 0 0 2 2 0 2 0 2 2 0 0 2 0 0 0 0 2 2 0 0 0 2 2 0 0 2 0 2 0 2 2 0\n",
      " 2 0 2 0 0 2 0 2 1 1 0 2 2 2 2 0 0 2 2 0 2 1 2 2 0 0 0 2 0 2 0]\n",
      "Prédictions sur l'ensemble de test : [2 1 0 2 0 2 0 2 2 2 2 2 2 2 2 0 2 0 0 0 2 2 0 0 2 0 0 2 0 0 2 1 0 2 2 0 0\n",
      " 2 2 1 2 0 2 0 0]\n",
      "Précision sur l'ensemble d'entraînement : 74.29%\n",
      "Précision sur l'ensemble de test : 66.67%\n"
     ]
    },
    {
     "name": "stderr",
     "output_type": "stream",
     "text": [
      "C:\\Users\\asus\\anaconda3\\lib\\site-packages\\sklearn\\neural_network\\_multilayer_perceptron.py:692: ConvergenceWarning: Stochastic Optimizer: Maximum iterations (500) reached and the optimization hasn't converged yet.\n",
      "  warnings.warn(\n"
     ]
    }
   ],
   "source": [
    "\n",
    "# Création et configuration du modèle MLP\n",
    "mlp = MLPClassifier(\n",
    "    hidden_layer_sizes=(3, 2),  # Deux couches cachées : la première avec 3 neurones, la seconde avec 2 neurones\n",
    "    activation='relu',          # Fonction d'activation ReLU (Rectified Linear Unit)\n",
    "    solver='adam',              # Optimiseur Adam pour l'apprentissage\n",
    "    alpha=0.0001,               # Paramètre de régularisation L2 pour éviter le sur-apprentissage\n",
    "    max_iter=500                # Nombre maximum d'itérations pour l'entraînement\n",
    ")\n",
    "\n",
    "\n",
    "\n",
    "# Entraînement du modèle sur les données d'entraînement\n",
    "mlp.fit(x_train, y_train)\n",
    "\n",
    "# Prédiction des étiquettes pour l'ensemble d'entraînement et de test\n",
    "predictions_train = mlp.predict(x_train)  # Prédictions sur l'ensemble d'entraînement\n",
    "predictions_test = mlp.predict(x_test)    # Prédictions sur l'ensemble de test\n",
    "\n",
    "# Affichage des prédictions (optionnel, à des fins de vérification)\n",
    "print(\"Prédictions sur l'ensemble d'entraînement :\", predictions_train)\n",
    "print(\"Prédictions sur l'ensemble de test :\", predictions_test)\n",
    "\n",
    "# Calcul de la précision du modèle sur les ensembles d'entraînement et de test\n",
    "train_accuracy = accuracy_score(y_train, predictions_train)  # Précision sur l'ensemble d'entraînement\n",
    "test_accuracy = accuracy_score(y_test, predictions_test)     # Précision sur l'ensemble de test\n",
    "\n",
    "# Affichage des résultats\n",
    "print(f\"Précision sur l'ensemble d'entraînement : {train_accuracy * 100:.2f}%\")\n",
    "print(f\"Précision sur l'ensemble de test : {test_accuracy * 100:.2f}%\")\n"
   ]
  },
  {
   "cell_type": "code",
   "execution_count": 24,
   "id": "3747c82e",
   "metadata": {},
   "outputs": [
    {
     "name": "stdout",
     "output_type": "stream",
     "text": [
      "\n",
      "Rapport de classification pour l'ensemble de test :\n",
      "              precision    recall  f1-score   support\n",
      "\n",
      "           0       0.84      1.00      0.91        16\n",
      "           1       1.00      0.17      0.29        18\n",
      "           2       0.48      1.00      0.65        11\n",
      "\n",
      "    accuracy                           0.67        45\n",
      "   macro avg       0.77      0.72      0.62        45\n",
      "weighted avg       0.82      0.67      0.60        45\n",
      "\n"
     ]
    }
   ],
   "source": [
    "# Affichage du rapport de classification pour l'ensemble de test\n",
    "print(\"\\nRapport de classification pour l'ensemble de test :\")\n",
    "print(classification_report(y_test, predictions_test))\n"
   ]
  },
  {
   "cell_type": "code",
   "execution_count": 25,
   "id": "a1876551",
   "metadata": {},
   "outputs": [
    {
     "name": "stdout",
     "output_type": "stream",
     "text": [
      "\n",
      "Matrice de confusion :\n",
      "[[16  0  0]\n",
      " [ 3  3 12]\n",
      " [ 0  0 11]]\n"
     ]
    },
    {
     "data": {
      "text/plain": [
       "<sklearn.metrics._plot.confusion_matrix.ConfusionMatrixDisplay at 0x240d64d0580>"
      ]
     },
     "execution_count": 25,
     "metadata": {},
     "output_type": "execute_result"
    },
    {
     "data": {
      "image/png": "[encoded data removed]",
      "text/plain": [
       "<Figure size 432x288 with 2 Axes>"
      ]
     },
     "metadata": {
      "needs_background": "light"
     },
     "output_type": "display_data"
    }
   ],
   "source": [
    "\n",
    "# Génération de la matrice de confusion\n",
    "# y_test : les vraies étiquettes des données de test\n",
    "# predictions_test : les prédictions faites par le modèle sur les données de test\n",
    "conf_matrix = confusion_matrix(y_test, predictions_test)\n",
    "\n",
    "# Affichage de la matrice de confusion dans la console\n",
    "print(\"\\nMatrice de confusion :\")\n",
    "print(conf_matrix)\n",
    "\n",
    "# Affichage graphique de la matrice de confusion\n",
    "# ConfusionMatrixDisplay est utilisé pour créer un affichage graphique de la matrice\n",
    "# display_labels=label_encoder.classes_ : permet d'afficher les étiquettes correspondantes aux classes\n",
    "ConfusionMatrixDisplay(conf_matrix, display_labels=label_encoder.classes_).plot()\n",
    "\n",
    "# La fonction plot() affiche la matrice de confusion sous forme graphique.\n"
   ]
  },
  {
   "cell_type": "code",
   "execution_count": 26,
   "id": "8d3625fe",
   "metadata": {},
   "outputs": [
    {
     "data": {
      "text/plain": [
       "'Digraph.gv.pdf'"
      ]
     },
     "execution_count": 26,
     "metadata": {},
     "output_type": "execute_result"
    }
   ],
   "source": [
    "\n",
    "\n",
    "def visualization_mlp(mlp):\n",
    "    \"\"\"\n",
    "    Visualise un réseau de neurones Multi-Layer Perceptron (MLP) avec Graphviz.\n",
    "\n",
    "    Paramètres :\n",
    "    - mlp : Modèle MLP entraîné.\n",
    "    \"\"\"\n",
    "    dot = Digraph(comment='MLP')\n",
    "    dot.attr(rankdir='LR', size='8,5')\n",
    "    \n",
    "    # Couche d'entrée\n",
    "    dot.attr('node', shape='circle', style='filled', color='lightblue')\n",
    "    for i in range(mlp.n_features_in_):\n",
    "        dot.node(f'I{i}', f'I{i}')\n",
    "\n",
    "    # Couches cachées\n",
    "    dot.attr('node', shape='circle', style='filled', color='lightgreen')\n",
    "    for l, layer_size in enumerate(mlp.hidden_layer_sizes):\n",
    "        for i in range(layer_size):\n",
    "            dot.node(f'H{l+1}_{i}', f'H{l+1}_{i}')\n",
    "\n",
    "    # Couche de sortie\n",
    "    dot.attr('node', shape='circle', style='filled', color='lightsalmon')\n",
    "    for i in range(mlp.n_outputs_):\n",
    "        dot.node(f'O{i}', f'O{i}')\n",
    "\n",
    "    # Connexions entre la couche d'entrée et la première couche cachée\n",
    "    for i in range(mlp.n_features_in_):\n",
    "        for j in range(mlp.hidden_layer_sizes[0]):\n",
    "            dot.edge(f'I{i}', f'H1_{j}')\n",
    "\n",
    "    # Connexions entre les couches cachées\n",
    "    for l in range(len(mlp.hidden_layer_sizes) - 1):\n",
    "        for i in range(mlp.hidden_layer_sizes[l]):\n",
    "            for j in range(mlp.hidden_layer_sizes[l + 1]):\n",
    "                dot.edge(f'H{l+1}_{i}', f'H{l+2}_{j}')\n",
    "\n",
    "    # Connexions entre la dernière couche cachée et la couche de sortie\n",
    "    for i in range(mlp.hidden_layer_sizes[-1]):\n",
    "        for j in range(mlp.n_outputs_):\n",
    "            dot.edge(f'H{len(mlp.hidden_layer_sizes)}_{i}', f'O{j}')\n",
    "\n",
    "    return dot\n",
    "\n",
    "# Exemple d'utilisation avec un modèle MLP entraîné\n",
    "mlp_graph = visualization_mlp(mlp)\n",
    "mlp_graph.view()"
   ]
  },
  {
   "cell_type": "code",
   "execution_count": null,
   "id": "807628ef",
   "metadata": {},
   "outputs": [],
   "source": []
  },
  {
   "cell_type": "code",
   "execution_count": null,
   "id": "9c0c70bb",
   "metadata": {},
   "outputs": [],
   "source": []
  },
  {
   "cell_type": "code",
   "execution_count": null,
   "id": "532d7e76",
   "metadata": {},
   "outputs": [],
   "source": []
  },
  {
   "cell_type": "code",
   "execution_count": null,
   "id": "113778a6",
   "metadata": {},
   "outputs": [],
   "source": []
  },
  {
   "cell_type": "code",
   "execution_count": null,
   "id": "8af2a557",
   "metadata": {},
   "outputs": [],
   "source": []
  }
 ],
 "metadata": {
  "kernelspec": {
   "display_name": "Python 3 (ipykernel)",
   "language": "python",
   "name": "python3"
  },
  "language_info": {
   "codemirror_mode": {
    "name": "ipython",
    "version": 3
   },
   "file_extension": ".py",
   "mimetype": "text/x-python",
   "name": "python",
   "nbconvert_exporter": "python",
   "pygments_lexer": "ipython3",
   "version": "3.9.12"
  }
 },
 "nbformat": 4,
 "nbformat_minor": 5
}
